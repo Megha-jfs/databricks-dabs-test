{
 "cells": [
  {
   "cell_type": "code",
   "execution_count": 0,
   "metadata": {
    "application/vnd.databricks.v1+cell": {
     "cellMetadata": {},
     "inputWidgets": {},
     "nuid": "30721854-b29f-43bd-a26e-255626b438b2",
     "showTitle": false,
     "tableResultSettingsMap": {},
     "title": ""
    }
   },
   "outputs": [],
   "source": [
    "from src/new/new_utils import print_something_new"
   ]
  },
  {
   "cell_type": "code",
   "execution_count": 0,
   "metadata": {
    "application/vnd.databricks.v1+cell": {
     "cellMetadata": {},
     "inputWidgets": {},
     "nuid": "5bc2d8e2-5ed5-4b1e-a945-2f7de7df70ed",
     "showTitle": false,
     "tableResultSettingsMap": {},
     "title": ""
    }
   },
   "outputs": [],
   "source": [
    "print(print_something_new(\"test2\"))"
   ]
  },
  {
   "cell_type": "code",
   "execution_count": 0,
   "metadata": {
    "application/vnd.databricks.v1+cell": {
     "cellMetadata": {
      "byteLimit": 2048000,
      "rowLimit": 10000
     },
     "inputWidgets": {},
     "nuid": "a05e667e-9642-401a-9701-bc498f627d79",
     "showTitle": false,
     "tableResultSettingsMap": {},
     "title": ""
    }
   },
   "outputs": [],
   "source": [
    "# Databricks notebook source\n",
    "babynames = spark.read.format(\"csv\").option(\"header\", \"true\").option(\"inferSchema\", \"true\").load(\"/Volumes/users/megha_upadhyay/test/babynames.csv\")\n",
    "babynames.createOrReplaceTempView(\"babynames_table\")\n",
    "years = spark.sql(\"select distinct(Year) from babynames_table\").toPandas()['Year'].tolist()\n",
    "years.sort()\n",
    "dbutils.widgets.dropdown(\"year\", \"2014\", [str(x) for x in years])\n",
    "display(babynames.filter(babynames.Year == dbutils.widgets.get(\"year\")))"
   ]
  }
 ],
 "metadata": {
  "application/vnd.databricks.v1+notebook": {
   "computePreferences": null,
   "dashboards": [],
   "environmentMetadata": {
    "base_environment": "",
    "environment_version": "2"
   },
   "inputWidgetPreferences": null,
   "language": "python",
   "notebookMetadata": {
    "pythonIndentUnit": 2
   },
   "notebookName": "filter-baby-names",
   "widgets": {
    "year": {
     "currentValue": "2014",
     "nuid": "5941fbda-f879-45ee-8bc9-4e400da9c8cf",
     "typedWidgetInfo": {
      "autoCreated": false,
      "defaultValue": "2014",
      "label": null,
      "name": "year",
      "options": {
       "widgetDisplayType": "Dropdown",
       "choices": [
        "2007",
        "2008",
        "2009",
        "2010",
        "2011",
        "2012",
        "2013",
        "2014",
        "2015",
        "2016",
        "2017",
        "2018",
        "2019",
        "2020",
        "2021"
       ],
       "fixedDomain": true,
       "multiselect": false
      },
      "parameterDataType": "String"
     },
     "widgetInfo": {
      "widgetType": "dropdown",
      "defaultValue": "2014",
      "label": null,
      "name": "year",
      "options": {
       "widgetType": "dropdown",
       "autoCreated": false,
       "choices": [
        "2007",
        "2008",
        "2009",
        "2010",
        "2011",
        "2012",
        "2013",
        "2014",
        "2015",
        "2016",
        "2017",
        "2018",
        "2019",
        "2020",
        "2021"
       ]
      }
     }
    }
   }
  },
  "language_info": {
   "name": "python"
  }
 },
 "nbformat": 4,
 "nbformat_minor": 0
}
